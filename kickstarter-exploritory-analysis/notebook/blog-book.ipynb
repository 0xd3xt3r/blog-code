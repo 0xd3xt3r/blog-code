{
 "cells": [
  {
   "cell_type": "markdown",
   "metadata": {},
   "source": [
    "\n",
    "### Setting up the environment"
   ]
  },
  {
   "cell_type": "code",
   "execution_count": 1,
   "metadata": {},
   "outputs": [],
   "source": [
    "%matplotlib inline\n",
    "import pandas as pd\n",
    "\n",
    "import numpy as np\n",
    "import matplotlib.pyplot as plt\n",
    "\n",
    "pd.options.display.float_format = '{:,.2f}'.format\n",
    "import seaborn as sns\n",
    "pd.set_option(\"display.max_rows\", 20)\n",
    "pd.set_option(\"display.max_columns\", 20)\n",
    "import ijson\n",
    "from pylab import rcParams\n",
    "rcParams['figure.figsize'] = 16, 5\n"
   ]
  },
  {
   "cell_type": "markdown",
   "metadata": {},
   "source": [
    "### Cleaning the data script"
   ]
  },
  {
   "cell_type": "code",
   "execution_count": 2,
   "metadata": {},
   "outputs": [],
   "source": [
    "import json\n",
    "if False :\n",
    "    write_csv = open('processed/kick.csv','w')\n",
    "    json_file_path = '/home/rh0101/accion-dev/j-books/pydata-talk/data/Kickstarter_2017-10-15T10_20_38_271Z.json'\n",
    "\n",
    "    headers= 'id,deadline,launched_at,state,category_type_subtype,location_type,backers_count,currency,goal,pledged,spotlight,static_usd_rate,usd_pledged,country,country_state\\n'\n",
    "\n",
    "    write_csv.write(headers)\n",
    "\n",
    "    for line in open(json_file_path):\n",
    "      obj = json.loads(line)\n",
    "      temp_data = []\n",
    "      try :\n",
    "        temp_data.append(str(obj[\"data\"][\"id\"]))\n",
    "        temp_data.append(str(obj[\"data\"][\"deadline\"]))\n",
    "        temp_data.append(str(obj[\"data\"][\"launched_at\"]))\n",
    "        temp_data.append(str(obj[\"data\"][\"state\"]))\n",
    "        temp_data.append(str(obj[\"data\"][\"category\"][\"slug\"]))\n",
    "        try :\n",
    "            temp_data.append(str(obj[\"data\"][\"location\"][\"type\"]))\n",
    "        except Exception as e:\n",
    "            temp_data.append('None')\n",
    "        temp_data.append(str(obj[\"data\"][\"backers_count\"]))\n",
    "        temp_data.append(str(obj[\"data\"][\"currency\"]))\n",
    "        temp_data.append(str(obj[\"data\"][\"goal\"]))\n",
    "        temp_data.append(str(obj[\"data\"][\"pledged\"]))\n",
    "        temp_data.append(str(obj[\"data\"][\"spotlight\"]))\n",
    "        temp_data.append(str(obj[\"data\"][\"static_usd_rate\"]))\n",
    "        temp_data.append(str(obj[\"data\"][\"usd_pledged\"]))\n",
    "        temp_data.append(str(obj[\"data\"][\"country\"]))\n",
    "        try:\n",
    "            temp_data.append(str(obj[\"data\"][\"location\"][\"localized_name\"]))\n",
    "        except Exception as e:\n",
    "            temp_data.append('None')\n",
    "        write_csv.write(','.join(temp_data) + '\\n')\n",
    "      except Exception as e:\n",
    "        print('error', e)\n",
    "\n",
    "    write_csv.close()\n"
   ]
  },
  {
   "cell_type": "markdown",
   "metadata": {},
   "source": [
    "### Importing Dataset"
   ]
  },
  {
   "cell_type": "code",
   "execution_count": 143,
   "metadata": {},
   "outputs": [],
   "source": [
    "# import dataset\n",
    "kickstarter_file_path = '/home/rh0101/dev/blog-code/kickstarter-exploritory-analysis/processed/kick.csv'\n",
    "\n",
    "kick_df = pd.read_csv(kickstarter_file_path)"
   ]
  },
  {
   "cell_type": "code",
   "execution_count": 144,
   "metadata": {},
   "outputs": [
    {
     "data": {
      "text/html": [
       "<div>\n",
       "<style scoped>\n",
       "    .dataframe tbody tr th:only-of-type {\n",
       "        vertical-align: middle;\n",
       "    }\n",
       "\n",
       "    .dataframe tbody tr th {\n",
       "        vertical-align: top;\n",
       "    }\n",
       "\n",
       "    .dataframe thead th {\n",
       "        text-align: right;\n",
       "    }\n",
       "</style>\n",
       "<table border=\"1\" class=\"dataframe\">\n",
       "  <thead>\n",
       "    <tr style=\"text-align: right;\">\n",
       "      <th></th>\n",
       "      <th>id</th>\n",
       "      <th>deadline</th>\n",
       "      <th>launched_at</th>\n",
       "      <th>state</th>\n",
       "      <th>category_type_subtype</th>\n",
       "      <th>location_type</th>\n",
       "      <th>backers_count</th>\n",
       "      <th>currency</th>\n",
       "      <th>goal</th>\n",
       "      <th>pledged</th>\n",
       "      <th>spotlight</th>\n",
       "      <th>static_usd_rate</th>\n",
       "      <th>usd_pledged</th>\n",
       "      <th>country</th>\n",
       "      <th>country_state</th>\n",
       "    </tr>\n",
       "  </thead>\n",
       "  <tbody>\n",
       "    <tr>\n",
       "      <th>0</th>\n",
       "      <td>1361433686</td>\n",
       "      <td>1477591896</td>\n",
       "      <td>1474999896</td>\n",
       "      <td>successful</td>\n",
       "      <td>art/digital art</td>\n",
       "      <td>Town</td>\n",
       "      <td>121</td>\n",
       "      <td>EUR</td>\n",
       "      <td>5,000.00</td>\n",
       "      <td>5,000.37</td>\n",
       "      <td>True</td>\n",
       "      <td>1.12</td>\n",
       "      <td>5,617.45</td>\n",
       "      <td>FR</td>\n",
       "      <td>Paris</td>\n",
       "    </tr>\n",
       "    <tr>\n",
       "      <th>1</th>\n",
       "      <td>1851713855</td>\n",
       "      <td>1481389611</td>\n",
       "      <td>1476202011</td>\n",
       "      <td>successful</td>\n",
       "      <td>art/digital art</td>\n",
       "      <td>Town</td>\n",
       "      <td>7</td>\n",
       "      <td>GBP</td>\n",
       "      <td>100.00</td>\n",
       "      <td>127.00</td>\n",
       "      <td>True</td>\n",
       "      <td>1.24</td>\n",
       "      <td>157.72</td>\n",
       "      <td>GB</td>\n",
       "      <td>Bournemouth</td>\n",
       "    </tr>\n",
       "    <tr>\n",
       "      <th>2</th>\n",
       "      <td>675977754</td>\n",
       "      <td>1479693600</td>\n",
       "      <td>1476895843</td>\n",
       "      <td>successful</td>\n",
       "      <td>art/digital art</td>\n",
       "      <td>Town</td>\n",
       "      <td>201</td>\n",
       "      <td>CAD</td>\n",
       "      <td>12,000.00</td>\n",
       "      <td>12,536.32</td>\n",
       "      <td>True</td>\n",
       "      <td>0.76</td>\n",
       "      <td>9,566.01</td>\n",
       "      <td>CA</td>\n",
       "      <td>Montreal</td>\n",
       "    </tr>\n",
       "    <tr>\n",
       "      <th>3</th>\n",
       "      <td>158101895</td>\n",
       "      <td>1480762373</td>\n",
       "      <td>1478166773</td>\n",
       "      <td>successful</td>\n",
       "      <td>art/digital art</td>\n",
       "      <td>Town</td>\n",
       "      <td>31</td>\n",
       "      <td>USD</td>\n",
       "      <td>300.00</td>\n",
       "      <td>346.00</td>\n",
       "      <td>True</td>\n",
       "      <td>1.00</td>\n",
       "      <td>346.00</td>\n",
       "      <td>US</td>\n",
       "      <td>Philadelphia</td>\n",
       "    </tr>\n",
       "    <tr>\n",
       "      <th>4</th>\n",
       "      <td>656509465</td>\n",
       "      <td>1481543007</td>\n",
       "      <td>1478951007</td>\n",
       "      <td>successful</td>\n",
       "      <td>art/digital art</td>\n",
       "      <td>Town</td>\n",
       "      <td>16</td>\n",
       "      <td>GBP</td>\n",
       "      <td>500.00</td>\n",
       "      <td>500.00</td>\n",
       "      <td>True</td>\n",
       "      <td>1.26</td>\n",
       "      <td>628.21</td>\n",
       "      <td>GB</td>\n",
       "      <td>London</td>\n",
       "    </tr>\n",
       "  </tbody>\n",
       "</table>\n",
       "</div>"
      ],
      "text/plain": [
       "           id    deadline  launched_at       state category_type_subtype  \\\n",
       "0  1361433686  1477591896   1474999896  successful       art/digital art   \n",
       "1  1851713855  1481389611   1476202011  successful       art/digital art   \n",
       "2   675977754  1479693600   1476895843  successful       art/digital art   \n",
       "3   158101895  1480762373   1478166773  successful       art/digital art   \n",
       "4   656509465  1481543007   1478951007  successful       art/digital art   \n",
       "\n",
       "  location_type  backers_count currency      goal   pledged  spotlight  \\\n",
       "0          Town            121      EUR  5,000.00  5,000.37       True   \n",
       "1          Town              7      GBP    100.00    127.00       True   \n",
       "2          Town            201      CAD 12,000.00 12,536.32       True   \n",
       "3          Town             31      USD    300.00    346.00       True   \n",
       "4          Town             16      GBP    500.00    500.00       True   \n",
       "\n",
       "   static_usd_rate  usd_pledged country country_state  \n",
       "0             1.12     5,617.45      FR         Paris  \n",
       "1             1.24       157.72      GB   Bournemouth  \n",
       "2             0.76     9,566.01      CA      Montreal  \n",
       "3             1.00       346.00      US  Philadelphia  \n",
       "4             1.26       628.21      GB        London  "
      ]
     },
     "execution_count": 144,
     "metadata": {},
     "output_type": "execute_result"
    }
   ],
   "source": [
    "kick_df.head()"
   ]
  },
  {
   "cell_type": "markdown",
   "metadata": {},
   "source": [
    "### Cleaning and Transforming data"
   ]
  },
  {
   "cell_type": "markdown",
   "metadata": {},
   "source": [
    "#### Extracting category type and subtypes"
   ]
  },
  {
   "cell_type": "code",
   "execution_count": 145,
   "metadata": {},
   "outputs": [],
   "source": [
    "kick_df['category_type'] = kick_df['category_type_subtype'].apply(lambda x: x.split('/')[0])\n",
    "kick_df['category_subtype'] = kick_df['category_type_subtype'].apply(lambda x: x.split('/')[1])"
   ]
  },
  {
   "cell_type": "markdown",
   "metadata": {},
   "source": [
    "#### Fixing date time columns"
   ]
  },
  {
   "cell_type": "code",
   "execution_count": 146,
   "metadata": {},
   "outputs": [],
   "source": [
    "kick_df['deadline'] = pd.to_datetime(kick_df['deadline'], unit='s', )\n",
    "kick_df['launched_at'] = pd.to_datetime(kick_df['launched_at'], unit='s', )\n",
    "# drop the redundant column\n",
    "kick_df.drop(['category_type_subtype'], axis=1, inplace=True)"
   ]
  },
  {
   "cell_type": "markdown",
   "metadata": {},
   "source": [
    "#### Changing dtype of series"
   ]
  },
  {
   "cell_type": "code",
   "execution_count": 147,
   "metadata": {},
   "outputs": [],
   "source": [
    "# change the resolution of the floating point number\n",
    "kick_df[\"goal\"] = kick_df[\"goal\"].astype(\"float32\")\n",
    "kick_df[\"pledged\"] = kick_df[\"pledged\"].astype(\"float32\")\n",
    "kick_df[\"usd_pledged\"] = kick_df[\"usd_pledged\"].astype(\"float32\")"
   ]
  },
  {
   "cell_type": "markdown",
   "metadata": {},
   "source": [
    "#### Dealing with missing values"
   ]
  },
  {
   "cell_type": "code",
   "execution_count": 148,
   "metadata": {},
   "outputs": [],
   "source": [
    "kick_df.replace('None',np.NaN, inplace=True)"
   ]
  },
  {
   "cell_type": "code",
   "execution_count": 149,
   "metadata": {},
   "outputs": [
    {
     "data": {
      "text/plain": [
       "id                    0\n",
       "deadline              0\n",
       "launched_at           0\n",
       "state                 0\n",
       "location_type       681\n",
       "backers_count         0\n",
       "currency              0\n",
       "goal                  0\n",
       "pledged               0\n",
       "spotlight             0\n",
       "static_usd_rate       0\n",
       "usd_pledged           0\n",
       "country               0\n",
       "country_state       681\n",
       "category_type         0\n",
       "category_subtype      0\n",
       "dtype: int64"
      ]
     },
     "execution_count": 149,
     "metadata": {},
     "output_type": "execute_result"
    }
   ],
   "source": [
    "kick_df.isnull().sum()"
   ]
  },
  {
   "cell_type": "code",
   "execution_count": 150,
   "metadata": {},
   "outputs": [],
   "source": [
    "kick_df.dropna(inplace=True)"
   ]
  },
  {
   "cell_type": "markdown",
   "metadata": {},
   "source": [
    "#### Fixing Categorical variables"
   ]
  },
  {
   "cell_type": "code",
   "execution_count": 151,
   "metadata": {},
   "outputs": [],
   "source": [
    "category_variables = ['country','category_subtype','category_type','location_type','country_state','state','currency']\n",
    "for cat_var in category_variables:\n",
    "    kick_df[cat_var] = kick_df[cat_var].astype('category')"
   ]
  },
  {
   "cell_type": "markdown",
   "metadata": {},
   "source": [
    "### Variables of interest"
   ]
  },
  {
   "cell_type": "code",
   "execution_count": 12,
   "metadata": {},
   "outputs": [],
   "source": [
    "##  [1] \"id\"                            \"backers_count\"                \n",
    "##  [3] \"country\"                       \"creator.failed_experience\"    \n",
    "##  [5] \"creator.id\"                    \"creator.successful_experience\"\n",
    "##  [7] \"creator.total_experience\"      \"currency\"                     \n",
    "##  [9] \"deadline\"                      \"goal\"                         \n",
    "## [11] \"launched_at\"                   \"pledged\"                      \n",
    "## [13] \"slug\"                          \"spotlight\"                    \n",
    "## [15] \"state\"                         \"static_usd_rate\"              \n",
    "## [17] \"usd_goal\"                      \"usd_pledged\"                  \n",
    "## [19] \"category_name\"                 \"location_country\"             \n",
    "## [21] \"location_type\"                 \"location_name\"                \n",
    "## [23] \"category_parent\"               \"launched_at_month\"            \n",
    "## [25] \"launched_at_year\"              \"launched_weekday\"             \n",
    "## [27] \"deadline_weekday\""
   ]
  },
  {
   "cell_type": "markdown",
   "metadata": {},
   "source": [
    "#### Project state distribution"
   ]
  },
  {
   "cell_type": "code",
   "execution_count": 13,
   "metadata": {},
   "outputs": [
    {
     "data": {
      "text/plain": [
       "state\n",
       "successful    73272\n",
       "failed        70305\n",
       "canceled       8666\n",
       "live           3591\n",
       "suspended       612\n",
       "Name: id, dtype: int64"
      ]
     },
     "execution_count": 13,
     "metadata": {},
     "output_type": "execute_result"
    }
   ],
   "source": [
    "kick_df.groupby('state')['id'].count().sort_values(ascending=False)"
   ]
  },
  {
   "cell_type": "markdown",
   "metadata": {},
   "source": [
    "#### Project category distribution"
   ]
  },
  {
   "cell_type": "code",
   "execution_count": 14,
   "metadata": {},
   "outputs": [
    {
     "data": {
      "text/plain": [
       "category_type\n",
       "music           23497\n",
       "film & video    22854\n",
       "technology      17457\n",
       "art             16927\n",
       "publishing      16222\n",
       "food            12365\n",
       "games           10483\n",
       "fashion          8515\n",
       "design           5828\n",
       "comics           5343\n",
       "photography      4902\n",
       "crafts           3962\n",
       "theater          3759\n",
       "journalism       2931\n",
       "dance            1401\n",
       "Name: id, dtype: int64"
      ]
     },
     "execution_count": 14,
     "metadata": {},
     "output_type": "execute_result"
    }
   ],
   "source": [
    "kick_df.groupby('category_type')['id'].count().sort_values(ascending=False)"
   ]
  },
  {
   "cell_type": "markdown",
   "metadata": {},
   "source": [
    "#### Project count from Top 10 countries "
   ]
  },
  {
   "cell_type": "code",
   "execution_count": 36,
   "metadata": {},
   "outputs": [
    {
     "data": {
      "text/plain": [
       "country\n",
       "US    121550\n",
       "GB     14232\n",
       "CA      6404\n",
       "AU      3414\n",
       "DE      1677\n",
       "NL      1318\n",
       "FR      1205\n",
       "IT      1169\n",
       "ES       891\n",
       "SE       795\n",
       "Name: id, dtype: int64"
      ]
     },
     "execution_count": 36,
     "metadata": {},
     "output_type": "execute_result"
    }
   ],
   "source": [
    "kick_df.groupby('country')['id'].count().sort_values(ascending=False)[0:10]"
   ]
  },
  {
   "cell_type": "markdown",
   "metadata": {},
   "source": [
    "## Plots"
   ]
  },
  {
   "cell_type": "markdown",
   "metadata": {},
   "source": [
    "### Project states"
   ]
  },
  {
   "cell_type": "code",
   "execution_count": 78,
   "metadata": {},
   "outputs": [
    {
     "data": {
      "text/plain": [
       "<matplotlib.axes._subplots.AxesSubplot at 0x7fde86a005f8>"
      ]
     },
     "execution_count": 78,
     "metadata": {},
     "output_type": "execute_result"
    },
    {
     "data": {
      "image/png": "[encoded data removed]",
      "text/plain": [
       "<matplotlib.figure.Figure at 0x7fde869e5748>"
      ]
     },
     "metadata": {},
     "output_type": "display_data"
    }
   ],
   "source": [
    "project_state_grp = kick_df.groupby('state')['id'].count().sort_values(ascending=False)\n",
    "project_state_grp.plot(kind='bar')"
   ]
  },
  {
   "cell_type": "code",
   "execution_count": 76,
   "metadata": {},
   "outputs": [
    {
     "data": {
      "text/plain": [
       "<matplotlib.axes._subplots.AxesSubplot at 0x7fde862020f0>"
      ]
     },
     "execution_count": 76,
     "metadata": {},
     "output_type": "execute_result"
    },
    {
     "data": {
      "image/png": "[encoded data removed]",
      "text/plain": [
       "<matplotlib.figure.Figure at 0x7fde857d8470>"
      ]
     },
     "metadata": {},
     "output_type": "display_data"
    }
   ],
   "source": [
    "country_grp = kick_df.groupby('country')['id'].count()\n",
    "country_grp = country_grp.sort_values(ascending=False)\n",
    "country_grp = country_grp.iloc[0:10]\n",
    "country_grp.plot(kind='bar')"
   ]
  },
  {
   "cell_type": "code",
   "execution_count": 88,
   "metadata": {},
   "outputs": [
    {
     "data": {
      "text/plain": [
       "<matplotlib.axes._subplots.AxesSubplot at 0x7fde8519eef0>"
      ]
     },
     "execution_count": 88,
     "metadata": {},
     "output_type": "execute_result"
    },
    {
     "data": {
      "image/png": "[encoded data removed]",
      "text/plain": [
       "<matplotlib.figure.Figure at 0x7fde852aa278>"
      ]
     },
     "metadata": {},
     "output_type": "display_data"
    }
   ],
   "source": [
    "country_us_df = kick_df[kick_df['country'] == 'US']\n",
    "country_us_state_grp = country_us_df.groupby('country_state')\n",
    "country_us_state_grp = country_us_state_grp.size()\n",
    "country_us_state_grp = country_us_state_grp.sort_values(ascending=False)[0:20]\n",
    "country_us_state_grp.plot(kind='barh')"
   ]
  },
  {
   "cell_type": "code",
   "execution_count": 94,
   "metadata": {},
   "outputs": [
    {
     "data": {
      "text/plain": [
       "<matplotlib.axes._subplots.AxesSubplot at 0x7fde8453f9b0>"
      ]
     },
     "execution_count": 94,
     "metadata": {},
     "output_type": "execute_result"
    },
    {
     "data": {
      "image/png": "[encoded data removed]",
      "text/plain": [
       "<matplotlib.figure.Figure at 0x7fde84539630>"
      ]
     },
     "metadata": {},
     "output_type": "display_data"
    }
   ],
   "source": [
    "kick_df.groupby('country')['goal'].agg(np.sum).sort_values(ascending=False).plot(kind='bar')"
   ]
  },
  {
   "cell_type": "code",
   "execution_count": 95,
   "metadata": {},
   "outputs": [
    {
     "data": {
      "text/plain": [
       "<matplotlib.axes._subplots.AxesSubplot at 0x7fde84eb9860>"
      ]
     },
     "execution_count": 95,
     "metadata": {},
     "output_type": "execute_result"
    },
    {
     "data": {
      "image/png": "[encoded data removed]",
      "text/plain": [
       "<matplotlib.figure.Figure at 0x7fde84e6bcc0>"
      ]
     },
     "metadata": {},
     "output_type": "display_data"
    }
   ],
   "source": [
    "kick_df.groupby('country')['pledged'].agg(np.sum).sort_values(ascending=False).plot(kind='bar')"
   ]
  },
  {
   "cell_type": "code",
   "execution_count": 97,
   "metadata": {},
   "outputs": [
    {
     "data": {
      "text/plain": [
       "<matplotlib.axes._subplots.AxesSubplot at 0x7fde84d36dd8>"
      ]
     },
     "execution_count": 97,
     "metadata": {},
     "output_type": "execute_result"
    },
    {
     "data": {
      "image/png": "[encoded data removed]",
      "text/plain": [
       "<matplotlib.figure.Figure at 0x7fde84d063c8>"
      ]
     },
     "metadata": {},
     "output_type": "display_data"
    }
   ],
   "source": [
    "kick_df.groupby('country')['goal'].agg(np.mean).sort_values(ascending=False).plot(kind='bar')"
   ]
  },
  {
   "cell_type": "code",
   "execution_count": 96,
   "metadata": {},
   "outputs": [
    {
     "data": {
      "text/plain": [
       "<matplotlib.axes._subplots.AxesSubplot at 0x7fde84e99860>"
      ]
     },
     "execution_count": 96,
     "metadata": {},
     "output_type": "execute_result"
    },
    {
     "data": {
      "image/png": "[encoded data removed]",
      "text/plain": [
       "<matplotlib.figure.Figure at 0x7fde85003208>"
      ]
     },
     "metadata": {},
     "output_type": "display_data"
    }
   ],
   "source": [
    "kick_df.groupby('country')['pledged'].agg(np.mean).sort_values(ascending=False).plot(kind='bar')"
   ]
  },
  {
   "cell_type": "markdown",
   "metadata": {},
   "source": [
    "### Goal vs Pledged Histogram"
   ]
  },
  {
   "cell_type": "code",
   "execution_count": 153,
   "metadata": {},
   "outputs": [
    {
     "data": {
      "text/plain": [
       "count       156,446.00\n",
       "mean         53,866.84\n",
       "std       1,336,816.05\n",
       "min               0.01\n",
       "25%           1,800.00\n",
       "50%           5,000.00\n",
       "75%          15,000.00\n",
       "max     100,000,000.00\n",
       "Name: goal, dtype: float64"
      ]
     },
     "execution_count": 153,
     "metadata": {},
     "output_type": "execute_result"
    }
   ],
   "source": [
    "kick_df['goal'].describe()"
   ]
  },
  {
   "cell_type": "code",
   "execution_count": 136,
   "metadata": {},
   "outputs": [
    {
     "data": {
      "text/plain": [
       "count       156,446.00\n",
       "mean         53,866.84\n",
       "std       1,336,816.05\n",
       "min               0.01\n",
       "25%           1,800.00\n",
       "50%           5,000.00\n",
       "75%          15,000.00\n",
       "max     100,000,000.00\n",
       "Name: usd_pledged, dtype: float64"
      ]
     },
     "execution_count": 136,
     "metadata": {},
     "output_type": "execute_result"
    }
   ],
   "source": [
    "kick_df['usd_pledged'].describe()"
   ]
  },
  {
   "cell_type": "code",
   "execution_count": 222,
   "metadata": {},
   "outputs": [
    {
     "data": {
      "image/png": "[encoded data removed]",
      "text/plain": [
       "<matplotlib.figure.Figure at 0x7fde82175dd8>"
      ]
     },
     "metadata": {},
     "output_type": "display_data"
    }
   ],
   "source": [
    "plt.hist(kick_df['goal'], bins=100, range=(1,100000))\n",
    "plt.hist(kick_df['usd_pledged'], bins=100, range=(1,100000),alpha=0.5,color='r')\n",
    "plt.show()"
   ]
  },
  {
   "cell_type": "code",
   "execution_count": 223,
   "metadata": {},
   "outputs": [
    {
     "data": {
      "image/png": "[encoded data removed]",
      "text/plain": [
       "<matplotlib.figure.Figure at 0x7fde79cc3630>"
      ]
     },
     "metadata": {},
     "output_type": "display_data"
    }
   ],
   "source": [
    "plt.hist(kick_df['goal'], bins=100, range=(1,100000), cumulative=True)\n",
    "plt.hist(kick_df['usd_pledged'], bins=100, range=(1,100000), alpha=0.5, color='r', cumulative=True)\n",
    "plt.show()"
   ]
  },
  {
   "cell_type": "code",
   "execution_count": 163,
   "metadata": {},
   "outputs": [
    {
     "data": {
      "image/png": "[encoded data removed]",
      "text/plain": [
       "<matplotlib.figure.Figure at 0x7fde820ea668>"
      ]
     },
     "metadata": {},
     "output_type": "display_data"
    }
   ],
   "source": [
    "plt.hist(kick_df['goal'], bins=100, range=(1,100000), log=True)\n",
    "plt.hist(kick_df['usd_pledged'], bins=100, range=(1,100000), alpha=0.5, color='r',log=True)\n",
    "plt.show()"
   ]
  },
  {
   "cell_type": "code",
   "execution_count": 164,
   "metadata": {},
   "outputs": [
    {
     "data": {
      "image/png": "[encoded data removed]",
      "text/plain": [
       "<matplotlib.figure.Figure at 0x7fde81191da0>"
      ]
     },
     "metadata": {},
     "output_type": "display_data"
    }
   ],
   "source": [
    "plt.hist(kick_df['goal'], bins=100, range=(1,100000), log=True,cumulative=True)\n",
    "plt.hist(kick_df['usd_pledged'], bins=100, range=(1,100000), alpha=0.5, color='r',log=True,cumulative=True)\n",
    "plt.show()"
   ]
  },
  {
   "cell_type": "code",
   "execution_count": 208,
   "metadata": {},
   "outputs": [],
   "source": [
    "pledge_df = kick_df[kick_df['usd_pledged'] > 0]"
   ]
  },
  {
   "cell_type": "code",
   "execution_count": 209,
   "metadata": {},
   "outputs": [
    {
     "name": "stdout",
     "output_type": "stream",
     "text": [
      "19537 project didn't get funding\n"
     ]
    }
   ],
   "source": [
    "print('%d project didn\\'t get funding' % (len(kick_df) - len(pledge_df)))"
   ]
  },
  {
   "cell_type": "code",
   "execution_count": 210,
   "metadata": {},
   "outputs": [
    {
     "data": {
      "text/plain": [
       "id                              0\n",
       "deadline                        0\n",
       "launched_at                     0\n",
       "state                           0\n",
       "location_type                   0\n",
       "backers_count                   0\n",
       "currency                        0\n",
       "goal                            0\n",
       "pledged                         0\n",
       "spotlight                       0\n",
       "static_usd_rate                 0\n",
       "usd_pledged                     0\n",
       "country                         0\n",
       "country_state                   0\n",
       "category_type                   0\n",
       "category_subtype                0\n",
       "percentage_goal_reached    136909\n",
       "dtype: int64"
      ]
     },
     "execution_count": 210,
     "metadata": {},
     "output_type": "execute_result"
    }
   ],
   "source": [
    "kick_df.isnull().sum()"
   ]
  },
  {
   "cell_type": "code",
   "execution_count": 216,
   "metadata": {},
   "outputs": [],
   "source": [
    "kick_df['percentage_goal_reached'] = kick_df['percentage_goal_reached'].fillna(0)"
   ]
  },
  {
   "cell_type": "code",
   "execution_count": 217,
   "metadata": {},
   "outputs": [
    {
     "data": {
      "text/plain": [
       "id                         0\n",
       "deadline                   0\n",
       "launched_at                0\n",
       "state                      0\n",
       "location_type              0\n",
       "backers_count              0\n",
       "currency                   0\n",
       "goal                       0\n",
       "pledged                    0\n",
       "spotlight                  0\n",
       "static_usd_rate            0\n",
       "usd_pledged                0\n",
       "country                    0\n",
       "country_state              0\n",
       "category_type              0\n",
       "category_subtype           0\n",
       "percentage_goal_reached    0\n",
       "dtype: int64"
      ]
     },
     "execution_count": 217,
     "metadata": {},
     "output_type": "execute_result"
    }
   ],
   "source": [
    "kick_df.isnull().sum()"
   ]
  },
  {
   "cell_type": "code",
   "execution_count": 218,
   "metadata": {},
   "outputs": [],
   "source": [
    "kick_df['percentage_goal_reached'] = pledge_df['goal'] / pledge_df['usd_pledged'] * 100"
   ]
  },
  {
   "cell_type": "code",
   "execution_count": 220,
   "metadata": {},
   "outputs": [
    {
     "data": {
      "text/plain": [
       "<matplotlib.axes._subplots.AxesSubplot at 0x7fde80497978>"
      ]
     },
     "execution_count": 220,
     "metadata": {},
     "output_type": "execute_result"
    },
    {
     "data": {
      "image/png": "[encoded data removed]",
      "text/plain": [
       "<matplotlib.figure.Figure at 0x7fde792017f0>"
      ]
     },
     "metadata": {},
     "output_type": "display_data"
    }
   ],
   "source": [
    "kick_df['percentage_goal_reached'].plot(kind='hist',range=(1,500),bins=200)"
   ]
  },
  {
   "cell_type": "code",
   "execution_count": 221,
   "metadata": {},
   "outputs": [
    {
     "data": {
      "text/plain": [
       "count          136,909.00\n",
       "mean           910,736.41\n",
       "std         86,084,069.14\n",
       "min                  0.00\n",
       "25%                 81.21\n",
       "50%                 99.77\n",
       "75%              2,334.18\n",
       "max     19,915,498,217.58\n",
       "Name: percentage_goal_reached, dtype: float64"
      ]
     },
     "execution_count": 221,
     "metadata": {},
     "output_type": "execute_result"
    }
   ],
   "source": [
    "kick_df['percentage_goal_reached'].describe()"
   ]
  },
  {
   "cell_type": "code",
   "execution_count": null,
   "metadata": {},
   "outputs": [],
   "source": []
  }
 ],
 "metadata": {
  "kernelspec": {
   "display_name": "Python 3",
   "language": "python",
   "name": "python3"
  },
  "language_info": {
   "codemirror_mode": {
    "name": "ipython",
    "version": 3
   },
   "file_extension": ".py",
   "mimetype": "text/x-python",
   "name": "python",
   "nbconvert_exporter": "python",
   "pygments_lexer": "ipython3",
   "version": "3.4.3"
  }
 },
 "nbformat": 4,
 "nbformat_minor": 2
}
